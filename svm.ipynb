{
  "nbformat": 4,
  "nbformat_minor": 0,
  "metadata": {
    "colab": {
      "private_outputs": true,
      "provenance": []
    },
    "kernelspec": {
      "name": "python3",
      "display_name": "Python 3"
    },
    "language_info": {
      "name": "python"
    }
  },
  "cells": [
    {
      "cell_type": "code",
      "source": [
        "# Import necessary libraries\n",
        "import pandas as pd\n",
        "import numpy as np\n",
        "from sklearn.model_selection import train_test_split\n",
        "from sklearn.svm import SVC\n",
        "from sklearn.metrics import accuracy_score, classification_report\n",
        "from google.colab import files  # Specific to Google Colab\n",
        "\n",
        "# Step 1: Upload the dataset file (Google Colab specific)\n",
        "uploaded = files.upload()  # Upload your dataset file (e.g., 'lung_cancer_prediction.csv')\n",
        "\n",
        "# Step 2: Load the dataset into a DataFrame\n",
        "data = pd.read_csv('survey lung cancer.csv')  # Replace with your file name\n",
        "print(\"Dataset loaded successfully.\")\n",
        "print(\"First few rows of the dataset:\")\n",
        "print(data.head())\n",
        "print(\"Columns in the dataset:\")\n",
        "print(data.columns)\n",
        "\n",
        "# Step 3: Prepare features and target\n",
        "# Replace 'LUNG_CANCER' with the actual target column name in your dataset\n",
        "X = data.drop('LUNG_CANCER', axis=1)  # Features\n",
        "y = data['LUNG_CANCER']  # Target variable\n",
        "print(\"Features and target separated.\")\n",
        "\n",
        "# Step 4: Preprocess data (if needed)\n",
        "X = pd.get_dummies(X, drop_first=True)  # One-hot encode categorical variables, if any\n",
        "print(\"Data preprocessing complete.\")\n",
        "\n",
        "# Step 5: Split the data into training and testing sets\n",
        "X_train, X_test, y_train, y_test = train_test_split(X, y, test_size=0.2, random_state=42)\n",
        "print(\"Data split into training and testing sets.\")\n",
        "\n",
        "# Step 6: Initialize and train the SVM model\n",
        "svc_model = SVC(kernel='linear', random_state=42)\n",
        "svc_model.fit(X_train, y_train)\n",
        "print(\"SVM model trained.\")\n",
        "\n",
        "# Step 7: Make predictions\n",
        "y_pred = svc_model.predict(X_test)\n",
        "print(\"Predictions made on the test data.\")\n",
        "\n",
        "# Step 8: Evaluate the model\n",
        "print(\"Model Evaluation:\")\n",
        "print(f\"Accuracy: {accuracy_score(y_test, y_pred):.2f}\")\n",
        "print(\"\\nClassification Report:\\n\", classification_report(y_test, y_pred))\n"
      ],
      "metadata": {
        "id": "iZ7bD-5XGhFf"
      },
      "execution_count": null,
      "outputs": []
    }
  ]
}