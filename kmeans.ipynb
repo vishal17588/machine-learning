{
  "nbformat": 4,
  "nbformat_minor": 0,
  "metadata": {
    "colab": {
      "private_outputs": true,
      "provenance": []
    },
    "kernelspec": {
      "name": "python3",
      "display_name": "Python 3"
    },
    "language_info": {
      "name": "python"
    }
  },
  "cells": [
    {
      "cell_type": "code",
      "execution_count": null,
      "metadata": {
        "id": "A8oVPzLiLH5j"
      },
      "outputs": [],
      "source": [
        "# Import necessary libraries\n",
        "import pandas as pd\n",
        "import numpy as np\n",
        "from sklearn.cluster import KMeans\n",
        "from sklearn.preprocessing import StandardScaler\n",
        "import matplotlib.pyplot as plt\n",
        "from sklearn.decomposition import PCA\n",
        "from sklearn.datasets import load_iris\n",
        "\n",
        "# Load the Iris dataset (you can replace this with any dataset of your choice)\n",
        "iris = load_iris()\n",
        "data = iris.data  # Iris dataset features\n",
        "labels = iris.target  # True labels (used for visualization only)++++\n",
        "\n",
        "# Convert to pandas DataFrame for easier manipulation (optional)\n",
        "df = pd.DataFrame(data, columns=iris.feature_names)\n",
        "\n",
        "# Preprocess the data: Scale the features for better performance with K-means\n",
        "scaler = StandardScaler()\n",
        "scaled_data = scaler.fit_transform(df)\n",
        "\n",
        "# Apply KMeans Clustering with 3 clusters\n",
        "kmeans = KMeans(n_clusters=3, random_state=42)  # We want to group into 3 clusters\n",
        "kmeans.fit(scaled_data)\n",
        "\n",
        "# Get the cluster labels for each data point\n",
        "cluster_labels = kmeans.labels_\n",
        "\n",
        "# Add the cluster labels to the dataframe\n",
        "df['Cluster'] = cluster_labels\n",
        "\n",
        "# Group the dataset by clusters and show the mean of each feature for each cluster\n",
        "grouped_df = df.groupby('Cluster').mean()  # This will give the mean of each feature for each cluster\n",
        "\n",
        "# Display the grouped dataset (mean of features for each cluster)\n",
        "print(\"Grouped Dataset (Mean of Features by Cluster):\")\n",
        "print(grouped_df)\n",
        "\n",
        "# Optionally, you can see how the original data points are assigned to clusters\n",
        "print(\"\\nOriginal Data with Cluster Labels:\")\n",
        "print(df)\n",
        "\n",
        "# Visualize the clusters using PCA (2D visualization)\n",
        "pca = PCA(n_components=2)\n",
        "pca_components = pca.fit_transform(scaled_data)\n",
        "\n",
        "# Plot the clusters (using PCA components for 2D plot)\n",
        "plt.figure(figsize=(8, 6))\n",
        "plt.scatter(pca_components[:, 0], pca_components[:, 1], c=cluster_labels, cmap='viridis')\n",
        "plt.title('K-means Clustering into 3 Clusters on Iris Dataset')\n",
        "plt.xlabel('PCA Component 1')\n",
        "plt.ylabel('PCA Component 2')\n",
        "plt.colorbar(label='Cluster')\n",
        "plt.show()"
      ]
    },
    {
      "cell_type": "code",
      "source": [],
      "metadata": {
        "id": "jUr_3QlmVT4A"
      },
      "execution_count": null,
      "outputs": []
    }
  ]
}