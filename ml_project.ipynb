{
  "nbformat": 4,
  "nbformat_minor": 0,
  "metadata": {
    "colab": {
      "provenance": []
    },
    "kernelspec": {
      "name": "python3",
      "display_name": "Python 3"
    },
    "language_info": {
      "name": "python"
    }
  },
  "cells": [
    {
      "cell_type": "code",
      "source": [
        "import pandas as pd\n",
        "from sklearn.datasets import make_classification\n",
        "from sklearn.model_selection import train_test_split\n",
        "from sklearn.preprocessing import StandardScaler\n",
        "from sklearn.ensemble import RandomForestClassifier\n",
        "from sklearn.linear_model import LogisticRegression\n",
        "from sklearn.metrics import accuracy_score\n",
        "\n",
        "# 1. Create a synthetic dataset (1000 samples, 20 features)\n",
        "X, y = make_classification(n_samples=1000, n_features=20, n_informative=10,\n",
        "                           n_redundant=5, n_classes=2, random_state=42)\n",
        "\n",
        "# 2. Split into training and testing\n",
        "X_train, X_test, y_train, y_test = train_test_split(X, y, test_size=0.2, random_state=42)\n",
        "\n",
        "# 3. Scale features\n",
        "scaler = StandardScaler()\n",
        "X_train_scaled = scaler.fit_transform(X_train)\n",
        "X_test_scaled = scaler.transform(X_test)\n",
        "\n",
        "# 4. Initialize classifiers\n",
        "rf = RandomForestClassifier(n_estimators=100, random_state=42)\n",
        "lr = LogisticRegression(max_iter=1000, random_state=42)\n",
        "\n",
        "# 5. Train models\n",
        "rf.fit(X_train_scaled, y_train)\n",
        "lr.fit(X_train_scaled, y_train)\n",
        "\n",
        "# 6. Make predictions\n",
        "rf_preds = rf.predict(X_test_scaled)\n",
        "lr_preds = lr.predict(X_test_scaled)\n",
        "\n",
        "# 7. Calculate accuracy\n",
        "rf_acc = accuracy_score(y_test, rf_preds)\n",
        "lr_acc = accuracy_score(y_test, lr_preds)\n",
        "\n",
        "# 8. Display results\n",
        "print(\"Random Forest Accuracy:\", rf_acc)\n",
        "print(\"Logistic Regression Accuracy:\", lr_acc)\n",
        "\n",
        "if rf_acc > lr_acc:\n",
        "    print(\"Random Forest performed better.\")\n",
        "elif lr_acc > rf_acc:\n",
        "    print(\"Logistic Regression performed better.\")\n",
        "else:\n",
        "    print(\"Both classifiers performed equally.\")\n"
      ],
      "metadata": {
        "colab": {
          "base_uri": "https://localhost:8080/"
        },
        "id": "e2Vv5nBLa_oT",
        "outputId": "3f796287-c59e-41f0-9b6b-c588ac70ed52"
      },
      "execution_count": null,
      "outputs": [
        {
          "output_type": "stream",
          "name": "stdout",
          "text": [
            "Random Forest Accuracy: 0.915\n",
            "Logistic Regression Accuracy: 0.8\n",
            "Random Forest performed better.\n"
          ]
        }
      ]
    },
    {
      "cell_type": "code",
      "source": [],
      "metadata": {
        "id": "9vktxDmYJXVM"
      },
      "execution_count": null,
      "outputs": []
    }
  ]
}