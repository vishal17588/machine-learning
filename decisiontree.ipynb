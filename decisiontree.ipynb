{
  "nbformat": 4,
  "nbformat_minor": 0,
  "metadata": {
    "colab": {
      "private_outputs": true,
      "provenance": []
    },
    "kernelspec": {
      "name": "python3",
      "display_name": "Python 3"
    },
    "language_info": {
      "name": "python"
    }
  },
  "cells": [
    {
      "cell_type": "code",
      "execution_count": null,
      "metadata": {
        "id": "FNj9jexU90Gc"
      },
      "outputs": [],
      "source": [
        "import numpy as np\n",
        "import pandas as pd\n",
        "from sklearn.datasets import load_diabetes\n",
        "from sklearn.model_selection import train_test_split\n",
        "from sklearn.tree import DecisionTreeClassifier\n",
        "from sklearn.metrics import accuracy_score\n",
        "from sklearn import tree\n",
        "import matplotlib.pyplot as plt\n",
        "\n",
        "# Load the Diabetes dataset\n",
        "diabetes = load_diabetes()\n",
        "X = diabetes.data  # Features\n",
        "y = diabetes.target  # Target (disease progression measure)\n",
        "\n",
        "# Convert the regression target into a binary classification (above/below median disease progression)\n",
        "median_target = np.median(y)\n",
        "y = (y > median_target).astype(int)  # 0: Below median, 1: Above median\n",
        "\n",
        "# Split the dataset into training and testing sets\n",
        "X_train, X_test, y_train, y_test = train_test_split(X, y, test_size=0.3, random_state=42)\n",
        "\n",
        "# Create and train the Decision Tree model\n",
        "clf = DecisionTreeClassifier(random_state=42, max_depth=5, min_samples_split=4, min_samples_leaf=2)\n",
        "clf.fit(X_train, y_train)\n",
        "\n",
        "# Make predictions\n",
        "y_pred = clf.predict(X_test)\n",
        "\n",
        "# Evaluate the model\n",
        "accuracy = accuracy_score(y_test, y_pred)\n",
        "print(f'Accuracy of the Decision Tree model: {accuracy * 100:.2f}%')\n",
        "\n",
        "# Visualize the Decision Tree\n",
        "plt.figure(figsize=(12, 8))\n",
        "tree.plot_tree(clf, filled=True, feature_names=diabetes.feature_names, class_names=['Below Median', 'Above Median'], rounded=True, fontsize=10)\n",
        "plt.show()"
      ]
    },
    {
      "cell_type": "code",
      "source": [],
      "metadata": {
        "id": "mfW5GTiH-_hu"
      },
      "execution_count": null,
      "outputs": []
    }
  ]
}