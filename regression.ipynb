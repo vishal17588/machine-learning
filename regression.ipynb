{
  "nbformat": 4,
  "nbformat_minor": 0,
  "metadata": {
    "colab": {
      "private_outputs": true,
      "provenance": []
    },
    "kernelspec": {
      "name": "python3",
      "display_name": "Python 3"
    },
    "language_info": {
      "name": "python"
    }
  },
  "cells": [
    {
      "cell_type": "code",
      "source": [
        "import numpy as np\n",
        "from sklearn.datasets import load_diabetes\n",
        "from sklearn.model_selection import train_test_split\n",
        "from sklearn.linear_model import LinearRegression\n",
        "from sklearn.preprocessing import PolynomialFeatures\n",
        "from sklearn.svm import SVR\n",
        "from sklearn.metrics import mean_squared_error"
      ],
      "metadata": {
        "id": "Awy9tz89p5UH"
      },
      "execution_count": null,
      "outputs": []
    },
    {
      "cell_type": "code",
      "source": [
        "#load the diabetes dataset\n",
        "diabetes = load_diabetes()\n",
        "X = diabetes.data\n",
        "y = diabetes.target"
      ],
      "metadata": {
        "id": "T8i9JNy9rK2X"
      },
      "execution_count": null,
      "outputs": []
    },
    {
      "cell_type": "code",
      "source": [
        "#split data into training and testing sets\n",
        "X_train, X_test, y_train, y_test = train_test_split(X, y, test_size=0.2, random_state=42)"
      ],
      "metadata": {
        "id": "BPr3Wj5-rqX-"
      },
      "execution_count": null,
      "outputs": []
    },
    {
      "cell_type": "code",
      "source": [
        "#polynmial regression\n",
        "degree = 2\n",
        "poly = PolynomialFeatures(degree=degree)\n",
        "X_poly_train = poly.fit_transform(X_train)\n",
        "X_poly_test = poly.transform(X_test)\n",
        "poly_reg = LinearRegression()\n",
        "poly_reg.fit(X_poly_train, y_train)\n",
        "y_poly_train_pred = poly_reg.predict(X_poly_train)\n",
        "y_poly_test_pred = poly_reg.predict(X_poly_test)\n",
        "poly_train_rmse = np.sqrt(mean_squared_error(y_train, y_poly_train_pred))\n",
        "poly_test_rmse = np.sqrt(mean_squared_error(y_test, y_poly_test_pred))"
      ],
      "metadata": {
        "id": "sTLj9Q0usFD2"
      },
      "execution_count": null,
      "outputs": []
    },
    {
      "cell_type": "code",
      "source": [
        "# Print.RMSE.for each.model\n",
        "print(\"Polynomial Regression:\")\n",
        "print(f\"training RMSE: {poly_train_rmse:.2f}\")\n",
        "print(f\"testing RMSE: {poly_test_rmse:.2f}\\n\")"
      ],
      "metadata": {
        "id": "razCIUSVzBWU"
      },
      "execution_count": null,
      "outputs": []
    },
    {
      "cell_type": "code",
      "source": [
        "svr = SVR(kernel='rbf')\n",
        "svr.fit(X_train, y_train)\n",
        "y_svr_train_pred = svr.predict(X_train)\n",
        "y_svr_test_pred = svr.predict(X_test)\n",
        "svr_train_rmse = np.sqrt(mean_squared_error(y_train, y_svr_train_pred))\n",
        "svr_test_rmse = np.sqrt(mean_squared_error(y_test, y_svr_test_pred))"
      ],
      "metadata": {
        "id": "G3s5aJtX35ma"
      },
      "execution_count": null,
      "outputs": []
    },
    {
      "cell_type": "code",
      "source": [
        "print(\"Support Vector Regression\")\n",
        "print(f\"training RMSE: {svr_train_rmse:.2f}\")\n",
        "print(f\"testing RMSE: {svr_test_rmse:.2f}\\n\")"
      ],
      "metadata": {
        "id": "Jzp38rMF24TC"
      },
      "execution_count": null,
      "outputs": []
    },
    {
      "cell_type": "code",
      "source": [],
      "metadata": {
        "id": "4c2pYbud67Ap"
      },
      "execution_count": null,
      "outputs": []
    }
  ]
}